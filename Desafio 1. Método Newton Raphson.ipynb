{
  "nbformat": 4,
  "nbformat_minor": 0,
  "metadata": {
    "colab": {
      "provenance": []
    },
    "kernelspec": {
      "name": "python3",
      "display_name": "Python 3"
    },
    "language_info": {
      "name": "python"
    }
  },
  "cells": [
    {
      "cell_type": "markdown",
      "source": [
        "Podemos utilizar os conceitos de funções para implementar uma forma de encontrar a raiz de uma certa equação. Na aula assíncrona, implementamos o método da biseção. Neste problema, vamos implementar o [Método de Newton–Raphson](https://pt.wikipedia.org/wiki/M%C3%A9todo_de_Newton%E2%80%93Raphson) para encontrar raízes. Esse método pode ser mais rápido que o anterior, porém necessitamos conhecer tanto a função $f(x)$ quanto sua derivada, $f'(x)$. \n",
        "\n",
        "Começando com um *chute* $x_1$, e calculando os valores de $f(x_1)$ e $f'(x_1)$, uma reta $g_1(x)$ tangente à curva é traçada para obter o valor de $x_2$ para o qual a reta intercepta o eixo $x$, *i.e.*, $g_1(x_2) = 0$. Se o valor de $f(x_2)$ está próximo de 0 com uma tolerância $\\epsilon$, dizemos que $x_2$ é uma aproximação para a raiz da função. Caso contrário, a ação se repete até encontrarmos um valor dentro da margem de tolerância.\n",
        "\n",
        "Para cada valor $x_i$, a reta tangente é dada por \n",
        "\n",
        "$$g_i(x) = [f'(x_i)](x-x_i)+f(x_i).$$\n",
        "\n",
        "A solução para $g_i(x_{i+1})=0$ é\n",
        "\n",
        "$$x_{i+1} = x_i - \\frac{f(x_i)}{f'(x_i)}.$$"
      ],
      "metadata": {
        "id": "-0r8FyYZJreF"
      }
    },
    {
      "cell_type": "markdown",
      "source": [
        "Imagem ilustrativa do método funcionando: \n",
        "\n",
        "![metodo](https://upload.wikimedia.org/wikipedia/commons/e/e0/NewtonIteration_Ani.gif)\n",
        "\n",
        "[(fonte)](https://en.wikipedia.org/wiki/File:NewtonIteration_Ani.gif)"
      ],
      "metadata": {
        "id": "OD2-TNz9J1rl"
      }
    },
    {
      "cell_type": "markdown",
      "source": [
        "### Item (a)\n",
        "\n",
        "- Implemente uma função chamada `newton()` com os seguintes argumentos:\n",
        "\n",
        "  - `f`: função $f(x)$\n",
        "  - `df`: função derivada de $f(x)$\n",
        "  - `x0`: chute inicial de onde está a raiz\n",
        "  - `eps`: tolerância, que toma um valor padrão igual a `1e-6`.\n",
        "  - `n_max`: número máximo de iterações, com valor padrão igual a `100`.\n",
        "\n",
        "  Essa função deve retornar dois números, na ordem:\n",
        "\n",
        "  - O valor aproximado da raiz\n",
        "  - O número de iterações efetuadas para chegar nessa raiz.\n",
        "\n",
        "  Dentro da função, implemente o método de Newton–Raphson. Um esqueleto da função é apresentado abaixo, e deve ser alterado. Um `if` é necessário dentro do *loop* para que a função termine o cálculo quando o número de iterações for `n_max`."
      ],
      "metadata": {
        "id": "rbibZ5pTJ62F"
      }
    },
    {
      "cell_type": "code",
      "execution_count": 1,
      "metadata": {
        "id": "hocJ4MdnJlqJ"
      },
      "outputs": [],
      "source": [
        "### ESQUELETO ###\n",
        "def newton(f, df, x0 ,eps, n_max):\n",
        "  \"\"\"\n",
        "  Função para retornar uma estimativa da raiz de uma função f(x) com tolerância eps.\n",
        "  \"\"\"\n",
        "  n_it = 0\n",
        "  xi = x0\n",
        "  teste = x0\n",
        "  erro=0\n",
        "\n",
        "  while  df(xi) != 0: #vi que seguindo a aula dava pra fazer a comparação entre df e eps e fui testando com outras comparações também.\n",
        "#fazendo assim eu perderia alguma informação ou o programa rodaria mais vezes?\n",
        "    x = f(xi) #alterando o valor da função\n",
        "    dx = df(xi) #alterando o valor da derivada \n",
        "    xi = x0 - x/dx #funcionando ok \n",
        "    erro = xi - teste\n",
        "    if n_it == n_max:\n",
        "      #print(\"entrei aqui\") #testando se ta condição funciona ok\n",
        "      break\n",
        "    if abs(erro)<=eps:\n",
        "      #print(\"entrei aqui no erro\") #testando se ta condição funciona ok\n",
        "      break  \n",
        "    teste = xi\n",
        "    x0=xi\n",
        "    n_it= n_it+1\n",
        "\n",
        "  return [xi, n_it]   # retorna a raiz e o número de iterações efetuadas"
      ]
    },
    {
      "cell_type": "markdown",
      "source": [
        "### Item (b)\n",
        "\n",
        "- Agora, chame a função `newton` para obter a raiz da função $cos(x)$, com um chute inicial ao seu critério. Note que é possível colocar diretamente a função `cos()` como argumento, mas poderá ter problema ao colocar `df`. Você pode criar as funções `f()` e `df()` ou utilizar o `lambda`, como fizemos em aula.\n",
        "- Imprima a raiz obtida e quantas iterações foram necessárias"
      ],
      "metadata": {
        "id": "5K7FNMlJKOdv"
      }
    },
    {
      "cell_type": "code",
      "source": [
        "from math import cos, sin, pi, exp\n",
        "f = lambda x: cos(x)\n",
        "df = lambda x: -sin(x)\n",
        "x0 = 3*pi/4\n",
        "eps= 10**-6\n",
        "n_max =100\n",
        "if df(x0) == 0:\n",
        "  print(\"o número que você escolheu causa uma divisão por 0\")\n",
        "else: \n",
        "  resp1 = newton(f, df, x0, eps, n_max)\n",
        "  print(f\"A raiz é: {resp1[0]:.3f}, e o número de iterações foi: {resp1[1]}\") "
      ],
      "metadata": {
        "colab": {
          "base_uri": "https://localhost:8080/"
        },
        "id": "1bReroOQKPSf",
        "outputId": "3654e7cf-25aa-4db1-cf0b-ea9500b747d7"
      },
      "execution_count": 2,
      "outputs": [
        {
          "output_type": "stream",
          "name": "stdout",
          "text": [
            "A raiz é: 1.571, e o número de iterações foi: 3\n"
          ]
        }
      ]
    },
    {
      "cell_type": "markdown",
      "source": [
        "### Item (c)\n",
        "\n",
        "Vamos testar esse método onde pode dar problemas. Um desses casos é quando não existe uma raiz. \n",
        "\n",
        "- Aplique a função `newton()` para a função $f(x) = x^2 + 2$, com chute inicial ao seu critério, com no máximo $1000$ iterações.\n",
        "- Responda (utilizando `print()`): podemos considerar que o valor obtido é a raiz da função?"
      ],
      "metadata": {
        "id": "aBCoiFXhKSze"
      }
    },
    {
      "cell_type": "code",
      "source": [
        "f = lambda x: x**2 + 2\n",
        "df = lambda x: 2*x\n",
        "x0 = 5\n",
        "eps= 10**-6\n",
        "n_max =1000\n",
        "if df(x0) == 0:\n",
        "  print(\"o número que você escolheu causa uma divisão por 0\")\n",
        "else: \n",
        "  resp2 = newton(f, df, x0, eps, n_max)\n",
        "  print(f\"A raiz é: {resp2[0]:.3f} e o número de iterações foi: {resp2[1]}\") \n",
        "  print(\"\\nNão, pois independentemente do valor chutado o programa gastará todas as iterações e não obteremos um valor proximo da raiz.\\nComo a função não tem uma raiz real o programa nos fornece números aleatórios que dependem da condição inicial.\")"
      ],
      "metadata": {
        "colab": {
          "base_uri": "https://localhost:8080/"
        },
        "id": "GwpcIpcRKfD2",
        "outputId": "7977c095-ea50-45ef-83e1-110017237668"
      },
      "execution_count": 3,
      "outputs": [
        {
          "output_type": "stream",
          "name": "stdout",
          "text": [
            "A raiz é: -17.911 e o número de iterações foi: 1000\n",
            "\n",
            "Não, pois independentemente do valor chutado o programa gastará todas as iterações e não obteremos um valor proximo da raiz.\n",
            "Como a função não tem uma raiz real o programa nos fornece números aleatórios que dependem da condição inicial.\n"
          ]
        }
      ]
    },
    {
      "cell_type": "markdown",
      "source": [
        "### Item (d)\n",
        "\n",
        "O método também pode falhar quando caímos em um intervalo assíntotico da função. Considere, por exemplo, a função $f(x) = x\\exp(-x)$. Ela tem uma raiz, mas dependendo do chute podemos ir para uma região assintótica, não exatamente zero, na qual o método retorna uma pseudo raiz por conta do valor estar dentro do limite de tolerância.\n",
        "\n",
        "- Utilize a função `newton()` com uma tolerância de $10^{-7}$ e valor padrão de limite de iterações, para a função $f(x) = x\\exp(-x)$. Faça testes com pelo menos **2 chutes**, que resultem na raiz correta, e outro em um valor incorreto. O gráfico abaixo ajudará a decidir os valores."
      ],
      "metadata": {
        "id": "zNk-C4hMKokH"
      }
    },
    {
      "cell_type": "markdown",
      "source": [
        "![índice.png](data:image/png;base64,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)"
      ],
      "metadata": {
        "id": "HZADR68PLD9K"
      }
    },
    {
      "cell_type": "code",
      "source": [
        "f = lambda x: x*exp(-x)\n",
        "df = lambda x: exp(-x) - x*exp(-x)\n",
        "x0 = 1.5\n",
        "eps= 10**-7\n",
        "n_max =100\n",
        "if df(x0) == 0:\n",
        "  print(\"o número que você escolheu causa uma divisão por 0\")\n",
        "else: \n",
        "  resp3 = newton(f, df, x0, eps, n_max)\n",
        "  print(f\"A raiz é: {resp3[0]:.3f} e o número de iterações foi:  {resp3[1]}\")"
      ],
      "metadata": {
        "colab": {
          "base_uri": "https://localhost:8080/"
        },
        "id": "Yq3g87UbLI_W",
        "outputId": "4d0fd280-75d3-48b2-e78a-03d122d04217"
      },
      "execution_count": 4,
      "outputs": [
        {
          "output_type": "stream",
          "name": "stdout",
          "text": [
            "A raiz é: 107.805 e o número de iterações foi:  100\n"
          ]
        }
      ]
    },
    {
      "cell_type": "markdown",
      "source": [
        "### Item (e) \n",
        "\n",
        "Em muitos problemas de física, podemos encontrar as chamadas equações transcendentais, que só podem ser resolvidas numericamente. \n",
        "\n",
        "- Encontre a solução para \n",
        "$x = \\cos(x)$\n",
        "e imprima o resultado utilizando a função `print()` formatada para até 5 casas decimais, mostrando também o número de iterações necessárias para o chute inicial escolhido.\n",
        "\n",
        "  > A saída deve ser parecida com a seguinte:\n",
        "  > \n",
        "  > `A raiz é 0.73909, e o método utilizou 3 iterações.`\n",
        "\n",
        "- Repita para pelo menos mais 3 chutes iniciais diferentes."
      ],
      "metadata": {
        "id": "5NnyALOoLSFk"
      }
    },
    {
      "cell_type": "code",
      "source": [
        "from random import randint #coloquei um geradorzin pra ver como funcionava \n",
        "f = lambda x: x - cos(x)\n",
        "df = lambda x: 1 + sin(x)\n",
        "x0 = 50\n",
        "eps= 10**-7\n",
        "n_max =100\n",
        "for i in range(0,3):\n",
        "  x0 = randint(1,1000)\n",
        "  resp4 = newton(f, df, x0, eps, n_max)\n",
        "  print(f\"A raiz é: {resp4[0]:.5f}\\tO número de iterações foi: {resp4[1]} \\tValor chutado: {x0}\") \n",
        "  #fiquei em duvida em relação a alguns valores que explodem\n",
        "  #talvez o número maximo de iterações seja menor?\n",
        "  #varias vezes que atualizei apareceu o valor esperado, mas outras explodia\n",
        "  #Pensando também que a derivada poderia dar um valor muito pequeno e proximo de 0 causando um problema na execução"
      ],
      "metadata": {
        "colab": {
          "base_uri": "https://localhost:8080/"
        },
        "id": "jQ3YhRR5LSyx",
        "outputId": "b9e4f18f-0356-40a5-e171-9186c123108a"
      },
      "execution_count": 5,
      "outputs": [
        {
          "output_type": "stream",
          "name": "stdout",
          "text": [
            "A raiz é: -315110081.12748\tO número de iterações foi: 100 \tValor chutado: 400\n",
            "A raiz é: -105787024854294137371885568.00000\tO número de iterações foi: 100 \tValor chutado: 179\n",
            "A raiz é: 0.73909\tO número de iterações foi: 8 \tValor chutado: 549\n"
          ]
        }
      ]
    }
  ]
}